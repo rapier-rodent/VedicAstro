{
 "cells": [
  {
   "cell_type": "code",
   "execution_count": 1,
   "metadata": {},
   "outputs": [],
   "source": [
    "from vedicastro.VedicAstro import VedicHoroscopeData\n",
    "from vedicastro.utils import pretty_data_table\n",
    "from pprint import pprint\n",
    "import polars as pl"
   ]
  },
  {
   "cell_type": "code",
   "execution_count": 2,
   "metadata": {},
   "outputs": [
    {
     "name": "stdout",
     "output_type": "stream",
     "text": [
      "Help on class VedicHoroscopeData in module vedicastro.VedicAstro:\n",
      "\n",
      "class VedicHoroscopeData(builtins.object)\n",
      " |  VedicHoroscopeData(year: int, month: int, day: int, hour: int, minute: int, second: int, utc: str, latitude: float, longitude: float, ayanamsa: str = 'Lahiri', house_system: str = 'Equal')\n",
      " |  \n",
      " |  Methods defined here:\n",
      " |  \n",
      " |  __init__(self, year: int, month: int, day: int, hour: int, minute: int, second: int, utc: str, latitude: float, longitude: float, ayanamsa: str = 'Lahiri', house_system: str = 'Equal')\n",
      " |      Generates Planetary and House Positions Data for a time and place input.\n",
      " |      \n",
      " |      Parameters\n",
      " |      ==========\n",
      " |      year: Birth Year\n",
      " |      month: Birth Month\n",
      " |      day: Birth Day\n",
      " |      house: Birth Hour\n",
      " |      minute: Birth Minute\n",
      " |      utc: Country UTC\n",
      " |      latitude: latitude\n",
      " |      longitude: longitude\n",
      " |      ayanamsa: ayanamsa\n",
      " |  \n",
      " |  compute_vimshottari_dasa(self, chart: flatlib.chart.Chart)\n",
      " |      Computes the Vimshottari Dasa for the chart\n",
      " |  \n",
      " |  generate_chart(self)\n",
      " |      Generates a `flatlib.Chart` object for the given time and location data\n",
      " |  \n",
      " |  get_ascendant_data(self, asc_data: flatlib.object.GenericObject, PlanetsDataCollection: <function namedtuple at 0x0000012D4198BEC0>)\n",
      " |      Generates Ascendant Data and returns the data in the format of the PlanetsDataCollection Named Tuple\n",
      " |  \n",
      " |  get_ayanamsa(self)\n",
      " |      Returns an Ayanamsa System from flatlib.sidereal library, based on user input\n",
      " |  \n",
      " |  get_consolidated_chart_data(self, chart: flatlib.chart.Chart, return_style: str = None)\n",
      " |      Create consolidated dict data where all objects (both planets and houses) are listed by rasi (sign)\n",
      " |  \n",
      " |  get_consolidated_chart_data_rasi_wise(self, df: polars.dataframe.frame.DataFrame)\n",
      " |      Returns in dict format, the consolidated chart data stored in a polars DataFrame grouped by Rasi\n",
      " |  \n",
      " |  get_house_system(self)\n",
      " |      Returns an House System from flatlib.sidereal library, based on user input\n",
      " |  \n",
      " |  get_house_wise_significators(self, chart: flatlib.chart.Chart)\n",
      " |      Generate the ABCD significators table for each house\n",
      " |  \n",
      " |  get_houses_data_from_chart(self, chart: flatlib.chart.Chart)\n",
      " |      Generate the houses data table given a `flatlib.Chart` object\n",
      " |  \n",
      " |  get_planet_in_house(self, chart: flatlib.chart.Chart)\n",
      " |      Determine which house each planet is in given a `flatlib.Chart` object\n",
      " |  \n",
      " |  get_planet_wise_significators(self, chart: flatlib.chart.Chart)\n",
      " |      Generate the ABCD significators table for each planet\n",
      " |  \n",
      " |  get_planetary_aspects(self, chart: flatlib.chart.Chart)\n",
      " |  \n",
      " |  get_planets_data_from_chart(self, chart: flatlib.chart.Chart)\n",
      " |      Generate the planets data table given a `flatlib.Chart` object\n",
      " |  \n",
      " |  get_rl_nl_sl_data(self, deg: float)\n",
      " |      Returns the  Rashi (Sign) Lord, Nakshatra, Nakshatra Pada, Nakshatra Lord, Sub Lord and Sub Sub Lord \n",
      " |      corresponding to the given degree.\n",
      " |  \n",
      " |  get_unique_house_nrs_for_rasi_lord(self, planets_df: polars.dataframe.frame.DataFrame, planet_name: str)\n",
      " |      Returns the unique set of house numbers where the given planet is the rasi lord\n",
      " |  \n",
      " |  ----------------------------------------------------------------------\n",
      " |  Data descriptors defined here:\n",
      " |  \n",
      " |  __dict__\n",
      " |      dictionary for instance variables\n",
      " |  \n",
      " |  __weakref__\n",
      " |      list of weak references to the object\n",
      "\n"
     ]
    }
   ],
   "source": [
    "help(VedicHoroscopeData)"
   ]
  },
  {
   "cell_type": "markdown",
   "metadata": {},
   "source": [
    "#### Generate Chart Data with Input Elements"
   ]
  },
  {
   "cell_type": "code",
   "execution_count": 3,
   "metadata": {},
   "outputs": [],
   "source": [
    "year = 2024\n",
    "month = 1\n",
    "day = 1\n",
    "hour = 9\n",
    "minute = 15\n",
    "secs = 0\n",
    "latitude, longitude, utc = 40.707013856558156, -74.01123260406254, \"-5:00\" ## New York\n",
    "ayan = \"Lahiri\"\n",
    "house_system = \"Placidus\" # Default House system for Krishnamurti Paddhati system"
   ]
  },
  {
   "cell_type": "code",
   "execution_count": 4,
   "metadata": {},
   "outputs": [],
   "source": [
    "vhd = VedicHoroscopeData(year = year, month = month, day = day, hour = hour, minute = minute, second = secs, utc = utc, \n",
    "                        latitude = latitude, longitude = longitude, ayanamsa = ayan, house_system = house_system)"
   ]
  },
  {
   "cell_type": "code",
   "execution_count": 5,
   "metadata": {},
   "outputs": [
    {
     "data": {
      "text/plain": [
       "('Lahiri', 'Placidus')"
      ]
     },
     "execution_count": 5,
     "metadata": {},
     "output_type": "execute_result"
    }
   ],
   "source": [
    "vhd.ayanamsa, vhd.house_system"
   ]
  },
  {
   "cell_type": "code",
   "execution_count": 6,
   "metadata": {},
   "outputs": [],
   "source": [
    "chart = vhd.generate_chart()"
   ]
  },
  {
   "cell_type": "code",
   "execution_count": 7,
   "metadata": {},
   "outputs": [
    {
     "name": "stdout",
     "output_type": "stream",
     "text": [
      "Sun - 256.4532215907955\n",
      "Moon - 138.82386279908562\n",
      "Mercury - 238.0126214840217\n",
      "Venus - 219.14368203961783\n",
      "Mars - 243.55789036912742\n",
      "Jupiter - 11.39400795464457\n",
      "Saturn - 309.10545581586103\n",
      "Uranus - 25.180261426586714\n",
      "Neptune - 330.89401372611945\n",
      "Pluto - 275.18537798459965\n",
      "Chiron - 351.2746275368828\n",
      "North Node - 356.6546220663508\n",
      "South Node - 176.65462206635084\n",
      "Syzygy - 70.77806237663256\n",
      "Pars Fortuna - 195.15771264219325\n"
     ]
    }
   ],
   "source": [
    "for planet in chart.objects:\n",
    "    print(planet.id, '-' ,planet.lon)"
   ]
  },
  {
   "cell_type": "code",
   "execution_count": 8,
   "metadata": {},
   "outputs": [
    {
     "name": "stdout",
     "output_type": "stream",
     "text": [
      "House1 - 288.5962365716464\n",
      "House2 - 336.4985654659893\n",
      "House3 - 12.692432429895113\n",
      "House4 - 38.35217376720323\n",
      "House5 - 59.592006672618886\n",
      "House6 - 81.01876071470457\n",
      "House7 - 108.59623657164639\n",
      "House8 - 156.4985654659893\n",
      "House9 - 192.69243242989512\n",
      "House10 - 218.35217376720323\n",
      "House11 - 239.59200667261888\n",
      "House12 - 261.01876071470457\n"
     ]
    }
   ],
   "source": [
    "for house in chart.houses:\n",
    "    print(house.id, '-', house.lon)"
   ]
  },
  {
   "cell_type": "code",
   "execution_count": 9,
   "metadata": {},
   "outputs": [
    {
     "name": "stdout",
     "output_type": "stream",
     "text": [
      "{'Chiron': 2,\n",
      " 'Fortuna': 9,\n",
      " 'Jupiter': 2,\n",
      " 'Ketu': 8,\n",
      " 'Mars': 11,\n",
      " 'Mercury': 10,\n",
      " 'Moon': 7,\n",
      " 'Neptune': 1,\n",
      " 'Pluto': 12,\n",
      " 'Rahu': 2,\n",
      " 'Saturn': 1,\n",
      " 'Sun': 11,\n",
      " 'Syzygy': 5,\n",
      " 'Uranus': 3,\n",
      " 'Venus': 10}\n"
     ]
    }
   ],
   "source": [
    "planet_in_house = vhd.get_planet_in_house(houses_chart = chart, planets_chart = chart)\n",
    "pprint(planet_in_house)"
   ]
  },
  {
   "cell_type": "code",
   "execution_count": 10,
   "metadata": {},
   "outputs": [
    {
     "data": {
      "text/html": [
       "<div><style>\n",
       ".dataframe > thead > tr,\n",
       ".dataframe > tbody > tr {\n",
       "  text-align: right;\n",
       "  white-space: pre-wrap;\n",
       "}\n",
       "</style>\n",
       "<small>shape: (16, 13)</small><table border=\"1\" class=\"dataframe\"><thead><tr><th>Object</th><th>Rasi</th><th>isRetroGrade</th><th>LonDecDeg</th><th>SignLonDMS</th><th>SignLonDecDeg</th><th>LatDMS</th><th>Nakshatra</th><th>RasiLord</th><th>NakshatraLord</th><th>SubLord</th><th>SubSubLord</th><th>HouseNr</th></tr><tr><td>str</td><td>str</td><td>bool</td><td>f64</td><td>str</td><td>f64</td><td>str</td><td>str</td><td>str</td><td>str</td><td>str</td><td>str</td><td>i64</td></tr></thead><tbody><tr><td>&quot;Asc&quot;</td><td>&quot;Capricorn&quot;</td><td>null</td><td>288.596</td><td>&quot;+18:35:46&quot;</td><td>18.5961</td><td>null</td><td>&quot;Shravana&quot;</td><td>&quot;Saturn&quot;</td><td>&quot;Moon&quot;</td><td>&quot;Mercury&quot;</td><td>&quot;Moon&quot;</td><td>1</td></tr><tr><td>&quot;Sun&quot;</td><td>&quot;Sagittarius&quot;</td><td>false</td><td>256.453</td><td>&quot;+16:27:12&quot;</td><td>16.453</td><td>&quot;+01:01:08&quot;</td><td>&quot;PurvaAshadha&quot;</td><td>&quot;Jupiter&quot;</td><td>&quot;Venus&quot;</td><td>&quot;Moon&quot;</td><td>&quot;Rahu&quot;</td><td>11</td></tr><tr><td>&quot;Moon&quot;</td><td>&quot;Leo&quot;</td><td>false</td><td>138.824</td><td>&quot;+18:49:26&quot;</td><td>18.824</td><td>&quot;+11:48:34&quot;</td><td>&quot;PūrvaPhalgunī&quot;</td><td>&quot;Sun&quot;</td><td>&quot;Venus&quot;</td><td>&quot;Rahu&quot;</td><td>&quot;Saturn&quot;</td><td>7</td></tr><tr><td>&quot;Mercury&quot;</td><td>&quot;Scorpio&quot;</td><td>true</td><td>238.013</td><td>&quot;+28:00:45&quot;</td><td>28.013</td><td>&quot;-00:05:02&quot;</td><td>&quot;Jyeshtha&quot;</td><td>&quot;Mars&quot;</td><td>&quot;Mercury&quot;</td><td>&quot;Saturn&quot;</td><td>&quot;Saturn&quot;</td><td>10</td></tr><tr><td>&quot;Venus&quot;</td><td>&quot;Scorpio&quot;</td><td>false</td><td>219.144</td><td>&quot;+09:08:37&quot;</td><td>9.144</td><td>&quot;+01:13:00&quot;</td><td>&quot;Anuradha&quot;</td><td>&quot;Mars&quot;</td><td>&quot;Saturn&quot;</td><td>&quot;Venus&quot;</td><td>&quot;Rahu&quot;</td><td>10</td></tr><tr><td>&quot;Mars&quot;</td><td>&quot;Sagittarius&quot;</td><td>false</td><td>243.558</td><td>&quot;+03:33:28&quot;</td><td>3.558</td><td>&quot;+00:44:31&quot;</td><td>&quot;Mula&quot;</td><td>&quot;Jupiter&quot;</td><td>&quot;Ketu&quot;</td><td>&quot;Sun&quot;</td><td>&quot;Venus&quot;</td><td>11</td></tr><tr><td>&quot;Jupiter&quot;</td><td>&quot;Aries&quot;</td><td>false</td><td>11.394</td><td>&quot;+11:23:38&quot;</td><td>11.394</td><td>&quot;+00:00:18&quot;</td><td>&quot;Ashwini&quot;</td><td>&quot;Mars&quot;</td><td>&quot;Ketu&quot;</td><td>&quot;Saturn&quot;</td><td>&quot;Jupiter&quot;</td><td>2</td></tr><tr><td>&quot;Saturn&quot;</td><td>&quot;Aquarius&quot;</td><td>false</td><td>309.105</td><td>&quot;+09:06:20&quot;</td><td>9.105</td><td>&quot;+00:05:21&quot;</td><td>&quot;Shatabhisha&quot;</td><td>&quot;Saturn&quot;</td><td>&quot;Rahu&quot;</td><td>&quot;Jupiter&quot;</td><td>&quot;Saturn&quot;</td><td>1</td></tr><tr><td>&quot;Uranus&quot;</td><td>&quot;Aries&quot;</td><td>true</td><td>25.18</td><td>&quot;+25:10:49&quot;</td><td>25.18</td><td>&quot;-00:01:17&quot;</td><td>&quot;Bharani&quot;</td><td>&quot;Mars&quot;</td><td>&quot;Venus&quot;</td><td>&quot;Mercury&quot;</td><td>&quot;Rahu&quot;</td><td>3</td></tr><tr><td>&quot;Neptune&quot;</td><td>&quot;Pisces&quot;</td><td>false</td><td>330.894</td><td>&quot;+00:53:38&quot;</td><td>0.894</td><td>&quot;+00:00:53&quot;</td><td>&quot;PurvaBhādrapad…</td><td>&quot;Jupiter&quot;</td><td>&quot;Jupiter&quot;</td><td>&quot;Mars&quot;</td><td>&quot;Saturn&quot;</td><td>1</td></tr><tr><td>&quot;Pluto&quot;</td><td>&quot;Capricorn&quot;</td><td>false</td><td>275.185</td><td>&quot;+05:11:07&quot;</td><td>5.185</td><td>&quot;+00:01:52&quot;</td><td>&quot;UttaraAshadha&quot;</td><td>&quot;Saturn&quot;</td><td>&quot;Sun&quot;</td><td>&quot;Mercury&quot;</td><td>&quot;Mercury&quot;</td><td>12</td></tr><tr><td>&quot;Chiron&quot;</td><td>&quot;Pisces&quot;</td><td>false</td><td>351.275</td><td>&quot;+21:16:29&quot;</td><td>21.275</td><td>&quot;+00:00:18&quot;</td><td>&quot;Revati&quot;</td><td>&quot;Jupiter&quot;</td><td>&quot;Mercury&quot;</td><td>&quot;Venus&quot;</td><td>&quot;Mercury&quot;</td><td>2</td></tr><tr><td>&quot;Rahu&quot;</td><td>&quot;Pisces&quot;</td><td>true</td><td>356.655</td><td>&quot;+26:39:17&quot;</td><td>26.655</td><td>&quot;-00:03:11&quot;</td><td>&quot;Revati&quot;</td><td>&quot;Jupiter&quot;</td><td>&quot;Mercury&quot;</td><td>&quot;Jupiter&quot;</td><td>&quot;Mercury&quot;</td><td>2</td></tr><tr><td>&quot;Ketu&quot;</td><td>&quot;Virgo&quot;</td><td>true</td><td>176.655</td><td>&quot;+26:39:17&quot;</td><td>26.655</td><td>&quot;-00:03:11&quot;</td><td>&quot;Chitra&quot;</td><td>&quot;Mercury&quot;</td><td>&quot;Mars&quot;</td><td>&quot;Jupiter&quot;</td><td>&quot;Mercury&quot;</td><td>8</td></tr><tr><td>&quot;Syzygy&quot;</td><td>&quot;Gemini&quot;</td><td>false</td><td>70.778</td><td>&quot;+10:46:41&quot;</td><td>10.778</td><td>&quot;+12:46:48&quot;</td><td>&quot;Ardra&quot;</td><td>&quot;Mercury&quot;</td><td>&quot;Rahu&quot;</td><td>&quot;Saturn&quot;</td><td>&quot;Saturn&quot;</td><td>5</td></tr><tr><td>&quot;Fortuna&quot;</td><td>&quot;Libra&quot;</td><td>false</td><td>195.158</td><td>&quot;+15:09:28&quot;</td><td>15.158</td><td>&quot;+00:00:00&quot;</td><td>&quot;Svati&quot;</td><td>&quot;Venus&quot;</td><td>&quot;Rahu&quot;</td><td>&quot;Ketu&quot;</td><td>&quot;Mercury&quot;</td><td>9</td></tr></tbody></table></div>"
      ],
      "text/plain": [
       "shape: (16, 13)\n",
       "┌─────────┬─────────────┬────────────┬───────────┬───┬────────────┬─────────┬────────────┬─────────┐\n",
       "│ Object  ┆ Rasi        ┆ isRetroGra ┆ LonDecDeg ┆ … ┆ NakshatraL ┆ SubLord ┆ SubSubLord ┆ HouseNr │\n",
       "│ ---     ┆ ---         ┆ de         ┆ ---       ┆   ┆ ord        ┆ ---     ┆ ---        ┆ ---     │\n",
       "│ str     ┆ str         ┆ ---        ┆ f64       ┆   ┆ ---        ┆ str     ┆ str        ┆ i64     │\n",
       "│         ┆             ┆ bool       ┆           ┆   ┆ str        ┆         ┆            ┆         │\n",
       "╞═════════╪═════════════╪════════════╪═══════════╪═══╪════════════╪═════════╪════════════╪═════════╡\n",
       "│ Asc     ┆ Capricorn   ┆ null       ┆ 288.596   ┆ … ┆ Moon       ┆ Mercury ┆ Moon       ┆ 1       │\n",
       "│ Sun     ┆ Sagittarius ┆ false      ┆ 256.453   ┆ … ┆ Venus      ┆ Moon    ┆ Rahu       ┆ 11      │\n",
       "│ Moon    ┆ Leo         ┆ false      ┆ 138.824   ┆ … ┆ Venus      ┆ Rahu    ┆ Saturn     ┆ 7       │\n",
       "│ Mercury ┆ Scorpio     ┆ true       ┆ 238.013   ┆ … ┆ Mercury    ┆ Saturn  ┆ Saturn     ┆ 10      │\n",
       "│ Venus   ┆ Scorpio     ┆ false      ┆ 219.144   ┆ … ┆ Saturn     ┆ Venus   ┆ Rahu       ┆ 10      │\n",
       "│ …       ┆ …           ┆ …          ┆ …         ┆ … ┆ …          ┆ …       ┆ …          ┆ …       │\n",
       "│ Chiron  ┆ Pisces      ┆ false      ┆ 351.275   ┆ … ┆ Mercury    ┆ Venus   ┆ Mercury    ┆ 2       │\n",
       "│ Rahu    ┆ Pisces      ┆ true       ┆ 356.655   ┆ … ┆ Mercury    ┆ Jupiter ┆ Mercury    ┆ 2       │\n",
       "│ Ketu    ┆ Virgo       ┆ true       ┆ 176.655   ┆ … ┆ Mars       ┆ Jupiter ┆ Mercury    ┆ 8       │\n",
       "│ Syzygy  ┆ Gemini      ┆ false      ┆ 70.778    ┆ … ┆ Rahu       ┆ Saturn  ┆ Saturn     ┆ 5       │\n",
       "│ Fortuna ┆ Libra       ┆ false      ┆ 195.158   ┆ … ┆ Rahu       ┆ Ketu    ┆ Mercury    ┆ 9       │\n",
       "└─────────┴─────────────┴────────────┴───────────┴───┴────────────┴─────────┴────────────┴─────────┘"
      ]
     },
     "execution_count": 10,
     "metadata": {},
     "output_type": "execute_result"
    }
   ],
   "source": [
    "planets_data = vhd.get_planets_data_from_chart(chart)\n",
    "planets_df = pl.DataFrame(planets_data)\n",
    "# planets_df.select([\"Object\", \"LonDecDeg\", \"Nakshatra\", \"RasiLord\", \"NakshatraLord\", \"SubLord\"])\n",
    "planets_df"
   ]
  },
  {
   "cell_type": "code",
   "execution_count": 11,
   "metadata": {},
   "outputs": [
    {
     "name": "stdout",
     "output_type": "stream",
     "text": [
      "+---------+-------------+--------------+-----------+------------+---------------+-----------+-----------------+----------+---------------+---------+------------+---------+\n",
      "|  Object |     Rasi    | isRetroGrade | LonDecDeg | SignLonDMS | SignLonDecDeg |   LatDMS  |    Nakshatra    | RasiLord | NakshatraLord | SubLord | SubSubLord | HouseNr |\n",
      "+---------+-------------+--------------+-----------+------------+---------------+-----------+-----------------+----------+---------------+---------+------------+---------+\n",
      "|   Asc   |  Capricorn  |     None     |  288.596  | +18:35:46  |    18.5961    |    None   |     Shravana    |  Saturn  |      Moon     | Mercury |    Moon    |    1    |\n",
      "|   Sun   | Sagittarius |    False     |  256.453  | +16:27:12  |     16.453    | +01:01:08 |   PurvaAshadha  | Jupiter  |     Venus     |   Moon  |    Rahu    |    11   |\n",
      "|   Moon  |     Leo     |    False     |  138.824  | +18:49:26  |     18.824    | +11:48:34 |  PūrvaPhalgunī  |   Sun    |     Venus     |   Rahu  |   Saturn   |    7    |\n",
      "| Mercury |   Scorpio   |     True     |  238.013  | +28:00:45  |     28.013    | -00:05:02 |     Jyeshtha    |   Mars   |    Mercury    |  Saturn |   Saturn   |    10   |\n",
      "|  Venus  |   Scorpio   |    False     |  219.144  | +09:08:37  |     9.144     | +01:13:00 |     Anuradha    |   Mars   |     Saturn    |  Venus  |    Rahu    |    10   |\n",
      "|   Mars  | Sagittarius |    False     |  243.558  | +03:33:28  |     3.558     | +00:44:31 |       Mula      | Jupiter  |      Ketu     |   Sun   |   Venus    |    11   |\n",
      "| Jupiter |    Aries    |    False     |   11.394  | +11:23:38  |     11.394    | +00:00:18 |     Ashwini     |   Mars   |      Ketu     |  Saturn |  Jupiter   |    2    |\n",
      "|  Saturn |   Aquarius  |    False     |  309.105  | +09:06:20  |     9.105     | +00:05:21 |   Shatabhisha   |  Saturn  |      Rahu     | Jupiter |   Saturn   |    1    |\n",
      "|  Uranus |    Aries    |     True     |   25.18   | +25:10:49  |     25.18     | -00:01:17 |     Bharani     |   Mars   |     Venus     | Mercury |    Rahu    |    3    |\n",
      "| Neptune |    Pisces   |    False     |  330.894  | +00:53:38  |     0.894     | +00:00:53 | PurvaBhādrapadā | Jupiter  |    Jupiter    |   Mars  |   Saturn   |    1    |\n",
      "|  Pluto  |  Capricorn  |    False     |  275.185  | +05:11:07  |     5.185     | +00:01:52 |  UttaraAshadha  |  Saturn  |      Sun      | Mercury |  Mercury   |    12   |\n",
      "|  Chiron |    Pisces   |    False     |  351.275  | +21:16:29  |     21.275    | +00:00:18 |      Revati     | Jupiter  |    Mercury    |  Venus  |  Mercury   |    2    |\n",
      "|   Rahu  |    Pisces   |     True     |  356.655  | +26:39:17  |     26.655    | -00:03:11 |      Revati     | Jupiter  |    Mercury    | Jupiter |  Mercury   |    2    |\n",
      "|   Ketu  |    Virgo    |     True     |  176.655  | +26:39:17  |     26.655    | -00:03:11 |      Chitra     | Mercury  |      Mars     | Jupiter |  Mercury   |    8    |\n",
      "|  Syzygy |    Gemini   |    False     |   70.778  | +10:46:41  |     10.778    | +12:46:48 |      Ardra      | Mercury  |      Rahu     |  Saturn |   Saturn   |    5    |\n",
      "| Fortuna |    Libra    |    False     |  195.158  | +15:09:28  |     15.158    | +00:00:00 |      Svati      |  Venus   |      Rahu     |   Ketu  |  Mercury   |    9    |\n",
      "+---------+-------------+--------------+-----------+------------+---------------+-----------+-----------------+----------+---------------+---------+------------+---------+\n"
     ]
    }
   ],
   "source": [
    "print(pretty_data_table(planets_data))"
   ]
  },
  {
   "cell_type": "code",
   "execution_count": 12,
   "metadata": {},
   "outputs": [
    {
     "data": {
      "text/html": [
       "<div><style>\n",
       ".dataframe > thead > tr,\n",
       ".dataframe > tbody > tr {\n",
       "  text-align: right;\n",
       "  white-space: pre-wrap;\n",
       "}\n",
       "</style>\n",
       "<small>shape: (12, 12)</small><table border=\"1\" class=\"dataframe\"><thead><tr><th>Object</th><th>HouseNr</th><th>Rasi</th><th>LonDecDeg</th><th>SignLonDMS</th><th>SignLonDecDeg</th><th>DegSize</th><th>Nakshatra</th><th>RasiLord</th><th>NakshatraLord</th><th>SubLord</th><th>SubSubLord</th></tr><tr><td>str</td><td>i64</td><td>str</td><td>f64</td><td>str</td><td>f64</td><td>f64</td><td>str</td><td>str</td><td>str</td><td>str</td><td>str</td></tr></thead><tbody><tr><td>&quot;I&quot;</td><td>1</td><td>&quot;Capricorn&quot;</td><td>288.596</td><td>&quot;+18:35:46&quot;</td><td>18.596</td><td>47.902</td><td>&quot;Shravana&quot;</td><td>&quot;Saturn&quot;</td><td>&quot;Moon&quot;</td><td>&quot;Mercury&quot;</td><td>&quot;Moon&quot;</td></tr><tr><td>&quot;II&quot;</td><td>2</td><td>&quot;Pisces&quot;</td><td>336.499</td><td>&quot;+06:29:55&quot;</td><td>6.499</td><td>36.194</td><td>&quot;UttaraBhādrapa…</td><td>&quot;Jupiter&quot;</td><td>&quot;Saturn&quot;</td><td>&quot;Mercury&quot;</td><td>&quot;Mars&quot;</td></tr><tr><td>&quot;III&quot;</td><td>3</td><td>&quot;Aries&quot;</td><td>12.692</td><td>&quot;+12:41:33&quot;</td><td>12.692</td><td>25.66</td><td>&quot;Ashwini&quot;</td><td>&quot;Mars&quot;</td><td>&quot;Ketu&quot;</td><td>&quot;Mercury&quot;</td><td>&quot;Rahu&quot;</td></tr><tr><td>&quot;IV&quot;</td><td>4</td><td>&quot;Taurus&quot;</td><td>38.352</td><td>&quot;+08:21:08&quot;</td><td>8.352</td><td>21.24</td><td>&quot;Krittika&quot;</td><td>&quot;Venus&quot;</td><td>&quot;Sun&quot;</td><td>&quot;Venus&quot;</td><td>&quot;Moon&quot;</td></tr><tr><td>&quot;V&quot;</td><td>5</td><td>&quot;Taurus&quot;</td><td>59.592</td><td>&quot;+29:35:31&quot;</td><td>29.592</td><td>21.427</td><td>&quot;Mrigashīrsha&quot;</td><td>&quot;Venus&quot;</td><td>&quot;Mars&quot;</td><td>&quot;Saturn&quot;</td><td>&quot;Rahu&quot;</td></tr><tr><td>&quot;VI&quot;</td><td>6</td><td>&quot;Gemini&quot;</td><td>81.019</td><td>&quot;+21:01:08&quot;</td><td>21.019</td><td>27.577</td><td>&quot;Punarvasu&quot;</td><td>&quot;Mercury&quot;</td><td>&quot;Jupiter&quot;</td><td>&quot;Jupiter&quot;</td><td>&quot;Venus&quot;</td></tr><tr><td>&quot;VII&quot;</td><td>7</td><td>&quot;Cancer&quot;</td><td>108.596</td><td>&quot;+18:35:46&quot;</td><td>18.596</td><td>47.902</td><td>&quot;Āshleshā&quot;</td><td>&quot;Moon&quot;</td><td>&quot;Mercury&quot;</td><td>&quot;Ketu&quot;</td><td>&quot;Ketu&quot;</td></tr><tr><td>&quot;VIII&quot;</td><td>8</td><td>&quot;Virgo&quot;</td><td>156.499</td><td>&quot;+06:29:55&quot;</td><td>6.499</td><td>36.194</td><td>&quot;UttaraPhalgunī…</td><td>&quot;Mercury&quot;</td><td>&quot;Sun&quot;</td><td>&quot;Mercury&quot;</td><td>&quot;Jupiter&quot;</td></tr><tr><td>&quot;IX&quot;</td><td>9</td><td>&quot;Libra&quot;</td><td>192.692</td><td>&quot;+12:41:33&quot;</td><td>12.692</td><td>25.66</td><td>&quot;Svati&quot;</td><td>&quot;Venus&quot;</td><td>&quot;Rahu&quot;</td><td>&quot;Mercury&quot;</td><td>&quot;Mercury&quot;</td></tr><tr><td>&quot;X&quot;</td><td>10</td><td>&quot;Scorpio&quot;</td><td>218.352</td><td>&quot;+08:21:08&quot;</td><td>8.352</td><td>21.24</td><td>&quot;Anuradha&quot;</td><td>&quot;Mars&quot;</td><td>&quot;Saturn&quot;</td><td>&quot;Venus&quot;</td><td>&quot;Venus&quot;</td></tr><tr><td>&quot;XI&quot;</td><td>11</td><td>&quot;Scorpio&quot;</td><td>239.592</td><td>&quot;+29:35:31&quot;</td><td>29.592</td><td>21.427</td><td>&quot;Jyeshtha&quot;</td><td>&quot;Mars&quot;</td><td>&quot;Mercury&quot;</td><td>&quot;Saturn&quot;</td><td>&quot;Rahu&quot;</td></tr><tr><td>&quot;XII&quot;</td><td>12</td><td>&quot;Sagittarius&quot;</td><td>261.019</td><td>&quot;+21:01:08&quot;</td><td>21.019</td><td>27.577</td><td>&quot;PurvaAshadha&quot;</td><td>&quot;Jupiter&quot;</td><td>&quot;Venus&quot;</td><td>&quot;Jupiter&quot;</td><td>&quot;Venus&quot;</td></tr></tbody></table></div>"
      ],
      "text/plain": [
       "shape: (12, 12)\n",
       "┌────────┬─────────┬─────────────┬───────────┬───┬──────────┬───────────────┬─────────┬────────────┐\n",
       "│ Object ┆ HouseNr ┆ Rasi        ┆ LonDecDeg ┆ … ┆ RasiLord ┆ NakshatraLord ┆ SubLord ┆ SubSubLord │\n",
       "│ ---    ┆ ---     ┆ ---         ┆ ---       ┆   ┆ ---      ┆ ---           ┆ ---     ┆ ---        │\n",
       "│ str    ┆ i64     ┆ str         ┆ f64       ┆   ┆ str      ┆ str           ┆ str     ┆ str        │\n",
       "╞════════╪═════════╪═════════════╪═══════════╪═══╪══════════╪═══════════════╪═════════╪════════════╡\n",
       "│ I      ┆ 1       ┆ Capricorn   ┆ 288.596   ┆ … ┆ Saturn   ┆ Moon          ┆ Mercury ┆ Moon       │\n",
       "│ II     ┆ 2       ┆ Pisces      ┆ 336.499   ┆ … ┆ Jupiter  ┆ Saturn        ┆ Mercury ┆ Mars       │\n",
       "│ III    ┆ 3       ┆ Aries       ┆ 12.692    ┆ … ┆ Mars     ┆ Ketu          ┆ Mercury ┆ Rahu       │\n",
       "│ IV     ┆ 4       ┆ Taurus      ┆ 38.352    ┆ … ┆ Venus    ┆ Sun           ┆ Venus   ┆ Moon       │\n",
       "│ V      ┆ 5       ┆ Taurus      ┆ 59.592    ┆ … ┆ Venus    ┆ Mars          ┆ Saturn  ┆ Rahu       │\n",
       "│ …      ┆ …       ┆ …           ┆ …         ┆ … ┆ …        ┆ …             ┆ …       ┆ …          │\n",
       "│ VIII   ┆ 8       ┆ Virgo       ┆ 156.499   ┆ … ┆ Mercury  ┆ Sun           ┆ Mercury ┆ Jupiter    │\n",
       "│ IX     ┆ 9       ┆ Libra       ┆ 192.692   ┆ … ┆ Venus    ┆ Rahu          ┆ Mercury ┆ Mercury    │\n",
       "│ X      ┆ 10      ┆ Scorpio     ┆ 218.352   ┆ … ┆ Mars     ┆ Saturn        ┆ Venus   ┆ Venus      │\n",
       "│ XI     ┆ 11      ┆ Scorpio     ┆ 239.592   ┆ … ┆ Mars     ┆ Mercury       ┆ Saturn  ┆ Rahu       │\n",
       "│ XII    ┆ 12      ┆ Sagittarius ┆ 261.019   ┆ … ┆ Jupiter  ┆ Venus         ┆ Jupiter ┆ Venus      │\n",
       "└────────┴─────────┴─────────────┴───────────┴───┴──────────┴───────────────┴─────────┴────────────┘"
      ]
     },
     "execution_count": 12,
     "metadata": {},
     "output_type": "execute_result"
    }
   ],
   "source": [
    "houses_data = vhd.get_houses_data_from_chart(chart)\n",
    "houses_df = pl.DataFrame(houses_data)\n",
    "houses_df"
   ]
  },
  {
   "cell_type": "markdown",
   "metadata": {},
   "source": [
    "### Planet-wise Significators Table"
   ]
  },
  {
   "cell_type": "code",
   "execution_count": 13,
   "metadata": {},
   "outputs": [
    {
     "data": {
      "text/html": [
       "<div><style>\n",
       ".dataframe > thead > tr,\n",
       ".dataframe > tbody > tr {\n",
       "  text-align: right;\n",
       "  white-space: pre-wrap;\n",
       "}\n",
       "</style>\n",
       "<small>shape: (12, 5)</small><table border=\"1\" class=\"dataframe\"><thead><tr><th>Planet</th><th>A</th><th>B</th><th>C</th><th>D</th></tr><tr><td>str</td><td>i64</td><td>i64</td><td>list[i64]</td><td>list[i64]</td></tr></thead><tbody><tr><td>&quot;Sun&quot;</td><td>10</td><td>11</td><td>[4, 5, 9]</td><td>[]</td></tr><tr><td>&quot;Moon&quot;</td><td>10</td><td>7</td><td>[4, 5, 9]</td><td>[7]</td></tr><tr><td>&quot;Mercury&quot;</td><td>10</td><td>10</td><td>[6, 8]</td><td>[6, 8]</td></tr><tr><td>&quot;Venus&quot;</td><td>1</td><td>10</td><td>[1]</td><td>[4, 5, 9]</td></tr><tr><td>&quot;Mars&quot;</td><td>8</td><td>11</td><td>[]</td><td>[3, 10, 11]</td></tr><tr><td>&quot;Jupiter&quot;</td><td>8</td><td>2</td><td>[]</td><td>[2, 12]</td></tr><tr><td>&quot;Saturn&quot;</td><td>2</td><td>1</td><td>[]</td><td>[1]</td></tr><tr><td>&quot;Uranus&quot;</td><td>10</td><td>3</td><td>[4, 5, 9]</td><td>[]</td></tr><tr><td>&quot;Neptune&quot;</td><td>2</td><td>1</td><td>[2, 12]</td><td>[]</td></tr><tr><td>&quot;Pluto&quot;</td><td>11</td><td>12</td><td>[]</td><td>[]</td></tr><tr><td>&quot;Rahu&quot;</td><td>10</td><td>2</td><td>[6, 8]</td><td>[]</td></tr><tr><td>&quot;Ketu&quot;</td><td>11</td><td>8</td><td>[3, 10, 11]</td><td>[]</td></tr></tbody></table></div>"
      ],
      "text/plain": [
       "shape: (12, 5)\n",
       "┌─────────┬─────┬─────┬─────────────┬─────────────┐\n",
       "│ Planet  ┆ A   ┆ B   ┆ C           ┆ D           │\n",
       "│ ---     ┆ --- ┆ --- ┆ ---         ┆ ---         │\n",
       "│ str     ┆ i64 ┆ i64 ┆ list[i64]   ┆ list[i64]   │\n",
       "╞═════════╪═════╪═════╪═════════════╪═════════════╡\n",
       "│ Sun     ┆ 10  ┆ 11  ┆ [4, 5, 9]   ┆ []          │\n",
       "│ Moon    ┆ 10  ┆ 7   ┆ [4, 5, 9]   ┆ [7]         │\n",
       "│ Mercury ┆ 10  ┆ 10  ┆ [6, 8]      ┆ [6, 8]      │\n",
       "│ Venus   ┆ 1   ┆ 10  ┆ [1]         ┆ [4, 5, 9]   │\n",
       "│ Mars    ┆ 8   ┆ 11  ┆ []          ┆ [3, 10, 11] │\n",
       "│ …       ┆ …   ┆ …   ┆ …           ┆ …           │\n",
       "│ Uranus  ┆ 10  ┆ 3   ┆ [4, 5, 9]   ┆ []          │\n",
       "│ Neptune ┆ 2   ┆ 1   ┆ [2, 12]     ┆ []          │\n",
       "│ Pluto   ┆ 11  ┆ 12  ┆ []          ┆ []          │\n",
       "│ Rahu    ┆ 10  ┆ 2   ┆ [6, 8]      ┆ []          │\n",
       "│ Ketu    ┆ 11  ┆ 8   ┆ [3, 10, 11] ┆ []          │\n",
       "└─────────┴─────┴─────┴─────────────┴─────────────┘"
      ]
     },
     "execution_count": 13,
     "metadata": {},
     "output_type": "execute_result"
    }
   ],
   "source": [
    "planets_significators_table = vhd.get_planet_wise_significators(planets_data, houses_data)\n",
    "pl.DataFrame(planets_significators_table)"
   ]
  },
  {
   "cell_type": "markdown",
   "metadata": {},
   "source": [
    "### House-wise Significators Table"
   ]
  },
  {
   "cell_type": "code",
   "execution_count": 14,
   "metadata": {},
   "outputs": [
    {
     "data": {
      "text/html": [
       "<div><style>\n",
       ".dataframe > thead > tr,\n",
       ".dataframe > tbody > tr {\n",
       "  text-align: right;\n",
       "  white-space: pre-wrap;\n",
       "}\n",
       "</style>\n",
       "<small>shape: (12, 5)</small><table border=\"1\" class=\"dataframe\"><thead><tr><th>House</th><th>A</th><th>B</th><th>C</th><th>D</th></tr><tr><td>str</td><td>list[str]</td><td>list[str]</td><td>list[str]</td><td>str</td></tr></thead><tbody><tr><td>&quot;I&quot;</td><td>[&quot;Venus&quot;]</td><td>[&quot;Saturn&quot;, &quot;Neptune&quot;]</td><td>[&quot;Venus&quot;]</td><td>&quot;Saturn&quot;</td></tr><tr><td>&quot;II&quot;</td><td>[&quot;Saturn&quot;, &quot;Neptune&quot;]</td><td>[&quot;Jupiter&quot;, &quot;Rahu&quot;]</td><td>[&quot;Neptune&quot;]</td><td>&quot;Jupiter&quot;</td></tr><tr><td>&quot;III&quot;</td><td>[]</td><td>[&quot;Uranus&quot;]</td><td>[&quot;Ketu&quot;]</td><td>&quot;Mars&quot;</td></tr><tr><td>&quot;IV&quot;</td><td>[]</td><td>[]</td><td>[&quot;Sun&quot;, &quot;Moon&quot;, &quot;Uranus&quot;]</td><td>&quot;Venus&quot;</td></tr><tr><td>&quot;V&quot;</td><td>[]</td><td>[]</td><td>[&quot;Sun&quot;, &quot;Moon&quot;, &quot;Uranus&quot;]</td><td>&quot;Venus&quot;</td></tr><tr><td>&quot;VI&quot;</td><td>[]</td><td>[]</td><td>[&quot;Mercury&quot;, &quot;Rahu&quot;]</td><td>&quot;Mercury&quot;</td></tr><tr><td>&quot;VII&quot;</td><td>[]</td><td>[&quot;Moon&quot;]</td><td>[]</td><td>&quot;Moon&quot;</td></tr><tr><td>&quot;VIII&quot;</td><td>[&quot;Mars&quot;, &quot;Jupiter&quot;]</td><td>[&quot;Ketu&quot;]</td><td>[&quot;Mercury&quot;, &quot;Rahu&quot;]</td><td>&quot;Mercury&quot;</td></tr><tr><td>&quot;IX&quot;</td><td>[]</td><td>[]</td><td>[&quot;Sun&quot;, &quot;Moon&quot;, &quot;Uranus&quot;]</td><td>&quot;Venus&quot;</td></tr><tr><td>&quot;X&quot;</td><td>[&quot;Sun&quot;, &quot;Moon&quot;, … &quot;Rahu&quot;]</td><td>[&quot;Mercury&quot;, &quot;Venus&quot;]</td><td>[&quot;Ketu&quot;]</td><td>&quot;Mars&quot;</td></tr><tr><td>&quot;XI&quot;</td><td>[&quot;Pluto&quot;, &quot;Ketu&quot;]</td><td>[&quot;Sun&quot;, &quot;Mars&quot;]</td><td>[&quot;Ketu&quot;]</td><td>&quot;Mars&quot;</td></tr><tr><td>&quot;XII&quot;</td><td>[]</td><td>[&quot;Pluto&quot;]</td><td>[&quot;Neptune&quot;]</td><td>&quot;Jupiter&quot;</td></tr></tbody></table></div>"
      ],
      "text/plain": [
       "shape: (12, 5)\n",
       "┌───────┬───────────────────────────┬───────────────────────┬───────────────────────────┬─────────┐\n",
       "│ House ┆ A                         ┆ B                     ┆ C                         ┆ D       │\n",
       "│ ---   ┆ ---                       ┆ ---                   ┆ ---                       ┆ ---     │\n",
       "│ str   ┆ list[str]                 ┆ list[str]             ┆ list[str]                 ┆ str     │\n",
       "╞═══════╪═══════════════════════════╪═══════════════════════╪═══════════════════════════╪═════════╡\n",
       "│ I     ┆ [\"Venus\"]                 ┆ [\"Saturn\", \"Neptune\"] ┆ [\"Venus\"]                 ┆ Saturn  │\n",
       "│ II    ┆ [\"Saturn\", \"Neptune\"]     ┆ [\"Jupiter\", \"Rahu\"]   ┆ [\"Neptune\"]               ┆ Jupiter │\n",
       "│ III   ┆ []                        ┆ [\"Uranus\"]            ┆ [\"Ketu\"]                  ┆ Mars    │\n",
       "│ IV    ┆ []                        ┆ []                    ┆ [\"Sun\", \"Moon\", \"Uranus\"] ┆ Venus   │\n",
       "│ V     ┆ []                        ┆ []                    ┆ [\"Sun\", \"Moon\", \"Uranus\"] ┆ Venus   │\n",
       "│ …     ┆ …                         ┆ …                     ┆ …                         ┆ …       │\n",
       "│ VIII  ┆ [\"Mars\", \"Jupiter\"]       ┆ [\"Ketu\"]              ┆ [\"Mercury\", \"Rahu\"]       ┆ Mercury │\n",
       "│ IX    ┆ []                        ┆ []                    ┆ [\"Sun\", \"Moon\", \"Uranus\"] ┆ Venus   │\n",
       "│ X     ┆ [\"Sun\", \"Moon\", … \"Rahu\"] ┆ [\"Mercury\", \"Venus\"]  ┆ [\"Ketu\"]                  ┆ Mars    │\n",
       "│ XI    ┆ [\"Pluto\", \"Ketu\"]         ┆ [\"Sun\", \"Mars\"]       ┆ [\"Ketu\"]                  ┆ Mars    │\n",
       "│ XII   ┆ []                        ┆ [\"Pluto\"]             ┆ [\"Neptune\"]               ┆ Jupiter │\n",
       "└───────┴───────────────────────────┴───────────────────────┴───────────────────────────┴─────────┘"
      ]
     },
     "execution_count": 14,
     "metadata": {},
     "output_type": "execute_result"
    }
   ],
   "source": [
    "house_significators_table = vhd.get_house_wise_significators(planets_data, houses_data)\n",
    "pl.DataFrame(house_significators_table)"
   ]
  },
  {
   "cell_type": "markdown",
   "metadata": {},
   "source": [
    "### Vimshottari Dasa System"
   ]
  },
  {
   "cell_type": "code",
   "execution_count": 15,
   "metadata": {},
   "outputs": [
    {
     "name": "stdout",
     "output_type": "stream",
     "text": [
      "{'Jupiter': {'bhuktis': {'Jupiter': {'end': '25-11-2078',\n",
      "                                     'start': '07-10-2076'},\n",
      "                         'Ketu': {'end': '18-08-2084', 'start': '12-09-2083'},\n",
      "                         'Mars': {'end': '09-05-2090', 'start': '03-06-2089'},\n",
      "                         'Mercury': {'end': '12-09-2083',\n",
      "                                     'start': '06-06-2081'},\n",
      "                         'Moon': {'end': '03-06-2089', 'start': '04-02-2088'},\n",
      "                         'Rahu': {'end': '03-10-2092', 'start': '09-05-2090'},\n",
      "                         'Saturn': {'end': '06-06-2081', 'start': '25-11-2078'},\n",
      "                         'Sun': {'end': '04-02-2088', 'start': '17-04-2087'},\n",
      "                         'Venus': {'end': '17-04-2087', 'start': '18-08-2084'}},\n",
      "             'end': '07-10-2092',\n",
      "             'start': '07-10-2076'},\n",
      " 'Ketu': {'bhuktis': {'Jupiter': {'end': '01-09-2133', 'start': '26-09-2132'},\n",
      "                      'Ketu': {'end': '06-03-2129', 'start': '07-10-2128'},\n",
      "                      'Mars': {'end': '08-09-2131', 'start': '12-04-2131'},\n",
      "                      'Mercury': {'end': '07-10-2135', 'start': '10-10-2134'},\n",
      "                      'Moon': {'end': '12-04-2131', 'start': '12-09-2130'},\n",
      "                      'Rahu': {'end': '26-09-2132', 'start': '08-09-2131'},\n",
      "                      'Saturn': {'end': '10-10-2134', 'start': '01-09-2133'},\n",
      "                      'Sun': {'end': '12-09-2130', 'start': '06-05-2130'},\n",
      "                      'Venus': {'end': '06-05-2130', 'start': '06-03-2129'}},\n",
      "          'end': '07-10-2135',\n",
      "          'start': '07-10-2128'},\n",
      " 'Mars': {'bhuktis': {'Jupiter': {'end': '01-03-2054', 'start': '23-03-2053'},\n",
      "                      'Ketu': {'end': '02-09-2056', 'start': '06-04-2056'},\n",
      "                      'Mars': {'end': '05-03-2052', 'start': '07-10-2051'},\n",
      "                      'Mercury': {'end': '06-04-2056', 'start': '10-04-2055'},\n",
      "                      'Moon': {'end': '08-10-2058', 'start': '08-03-2058'},\n",
      "                      'Rahu': {'end': '23-03-2053', 'start': '05-03-2052'},\n",
      "                      'Saturn': {'end': '10-04-2055', 'start': '01-03-2054'},\n",
      "                      'Sun': {'end': '08-03-2058', 'start': '02-11-2057'},\n",
      "                      'Venus': {'end': '02-11-2057', 'start': '02-09-2056'}},\n",
      "          'end': '07-10-2058',\n",
      "          'start': '07-10-2051'},\n",
      " 'Mercury': {'bhuktis': {'Jupiter': {'end': '31-01-2126',\n",
      "                                     'start': '25-10-2123'},\n",
      "                         'Ketu': {'end': '05-03-2115', 'start': '06-03-2114'},\n",
      "                         'Mars': {'end': '07-04-2121', 'start': '11-04-2120'},\n",
      "                         'Mercury': {'end': '06-03-2114',\n",
      "                                     'start': '07-10-2111'},\n",
      "                         'Moon': {'end': '11-04-2120', 'start': '11-11-2118'},\n",
      "                         'Rahu': {'end': '25-10-2123', 'start': '07-04-2121'},\n",
      "                         'Saturn': {'end': '09-10-2128', 'start': '31-01-2126'},\n",
      "                         'Sun': {'end': '11-11-2118', 'start': '05-01-2118'},\n",
      "                         'Venus': {'end': '05-01-2118', 'start': '05-03-2115'}},\n",
      "             'end': '07-10-2128',\n",
      "             'start': '07-10-2111'},\n",
      " 'Moon': {'bhuktis': {'Jupiter': {'end': '06-01-2046', 'start': '07-09-2044'},\n",
      "                      'Ketu': {'end': '05-08-2049', 'start': '05-01-2049'},\n",
      "                      'Mars': {'end': '07-03-2043', 'start': '07-08-2042'},\n",
      "                      'Mercury': {'end': '05-01-2049', 'start': '05-08-2047'},\n",
      "                      'Moon': {'end': '07-08-2042', 'start': '07-10-2041'},\n",
      "                      'Rahu': {'end': '07-09-2044', 'start': '07-03-2043'},\n",
      "                      'Saturn': {'end': '05-08-2047', 'start': '06-01-2046'},\n",
      "                      'Sun': {'end': '05-10-2051', 'start': '05-04-2051'},\n",
      "                      'Venus': {'end': '05-04-2051', 'start': '05-08-2049'}},\n",
      "          'end': '07-10-2051',\n",
      "          'start': '07-10-2041'},\n",
      " 'Rahu': {'bhuktis': {'Jupiter': {'end': '12-11-2063', 'start': '19-06-2061'},\n",
      "                      'Ketu': {'end': '23-04-2070', 'start': '05-04-2069'},\n",
      "                      'Mars': {'end': '07-10-2076', 'start': '19-09-2075'},\n",
      "                      'Mercury': {'end': '05-04-2069', 'start': '18-09-2066'},\n",
      "                      'Moon': {'end': '19-09-2075', 'start': '19-03-2074'},\n",
      "                      'Rahu': {'end': '19-06-2061', 'start': '07-10-2058'},\n",
      "                      'Saturn': {'end': '18-09-2066', 'start': '12-11-2063'},\n",
      "                      'Sun': {'end': '19-03-2074', 'start': '23-04-2073'},\n",
      "                      'Venus': {'end': '23-04-2073', 'start': '23-04-2070'}},\n",
      "          'end': '07-10-2076',\n",
      "          'start': '07-10-2058'},\n",
      " 'Saturn': {'bhuktis': {'Jupiter': {'end': '04-10-2111', 'start': '22-03-2109'},\n",
      "                        'Ketu': {'end': '28-07-2099', 'start': '19-06-2098'},\n",
      "                        'Mars': {'end': '16-05-2106', 'start': '07-04-2105'},\n",
      "                        'Mercury': {'end': '19-06-2098', 'start': '10-10-2095'},\n",
      "                        'Moon': {'end': '07-04-2105', 'start': '08-09-2103'},\n",
      "                        'Rahu': {'end': '22-03-2109', 'start': '16-05-2106'},\n",
      "                        'Saturn': {'end': '10-10-2095', 'start': '07-10-2092'},\n",
      "                        'Sun': {'end': '08-09-2103', 'start': '27-09-2102'},\n",
      "                        'Venus': {'end': '27-09-2102', 'start': '28-07-2099'}},\n",
      "            'end': '07-10-2111',\n",
      "            'start': '07-10-2092'},\n",
      " 'Sun': {'bhuktis': {'Jupiter': {'end': '12-08-2038', 'start': '25-10-2037'},\n",
      "                     'Ketu': {'end': '06-10-2040', 'start': '30-05-2040'},\n",
      "                     'Mars': {'end': '01-12-2036', 'start': '25-07-2036'},\n",
      "                     'Mercury': {'end': '30-05-2040', 'start': '24-07-2039'},\n",
      "                     'Moon': {'end': '25-07-2036', 'start': '25-01-2036'},\n",
      "                     'Rahu': {'end': '25-10-2037', 'start': '01-12-2036'},\n",
      "                     'Saturn': {'end': '24-07-2039', 'start': '12-08-2038'},\n",
      "                     'Sun': {'end': '25-01-2036', 'start': '07-10-2035'},\n",
      "                     'Venus': {'end': '06-10-2041', 'start': '06-10-2040'}},\n",
      "         'end': '07-10-2041',\n",
      "         'start': '07-10-2035'},\n",
      " 'Venus': {'bhuktis': {'Jupiter': {'end': '06-08-2028', 'start': '07-12-2025'},\n",
      "                       'Ketu': {'end': '06-10-2035', 'start': '06-08-2034'},\n",
      "                       'Mars': {'end': '07-12-2022', 'start': '07-10-2021'},\n",
      "                       'Mercury': {'end': '06-08-2034', 'start': '06-10-2031'},\n",
      "                       'Moon': {'end': '07-10-2021', 'start': '07-02-2020'},\n",
      "                       'Rahu': {'end': '07-12-2025', 'start': '07-12-2022'},\n",
      "                       'Saturn': {'end': '06-10-2031', 'start': '06-08-2028'},\n",
      "                       'Sun': {'end': '07-02-2020', 'start': '07-02-2019'},\n",
      "                       'Venus': {'end': '07-02-2019', 'start': '07-10-2015'}},\n",
      "           'end': '07-10-2035',\n",
      "           'start': '07-10-2015'}}\n"
     ]
    }
   ],
   "source": [
    "vimshottari_dasa = vhd.compute_vimshottari_dasa(chart)\n",
    "pprint(vimshottari_dasa)"
   ]
  },
  {
   "cell_type": "code",
   "execution_count": 16,
   "metadata": {},
   "outputs": [
    {
     "data": {
      "text/plain": [
       "{'start': '07-10-2111',\n",
       " 'end': '07-10-2128',\n",
       " 'bhuktis': {'Mercury': {'start': '07-10-2111', 'end': '06-03-2114'},\n",
       "  'Ketu': {'start': '06-03-2114', 'end': '05-03-2115'},\n",
       "  'Venus': {'start': '05-03-2115', 'end': '05-01-2118'},\n",
       "  'Sun': {'start': '05-01-2118', 'end': '11-11-2118'},\n",
       "  'Moon': {'start': '11-11-2118', 'end': '11-04-2120'},\n",
       "  'Mars': {'start': '11-04-2120', 'end': '07-04-2121'},\n",
       "  'Rahu': {'start': '07-04-2121', 'end': '25-10-2123'},\n",
       "  'Jupiter': {'start': '25-10-2123', 'end': '31-01-2126'},\n",
       "  'Saturn': {'start': '31-01-2126', 'end': '09-10-2128'}}}"
      ]
     },
     "execution_count": 16,
     "metadata": {},
     "output_type": "execute_result"
    }
   ],
   "source": [
    "vimshottari_dasa[\"Mercury\"]"
   ]
  },
  {
   "cell_type": "markdown",
   "metadata": {},
   "source": [
    "### Planetary Aspects"
   ]
  },
  {
   "cell_type": "code",
   "execution_count": 17,
   "metadata": {},
   "outputs": [
    {
     "data": {
      "text/html": [
       "<div><style>\n",
       ".dataframe > thead > tr,\n",
       ".dataframe > tbody > tr {\n",
       "  text-align: right;\n",
       "  white-space: pre-wrap;\n",
       "}\n",
       "</style>\n",
       "<small>shape: (88, 5)</small><table border=\"1\" class=\"dataframe\"><thead><tr><th>P1</th><th>P2</th><th>AspectType</th><th>AspectDeg</th><th>AspectOrb</th></tr><tr><td>str</td><td>str</td><td>str</td><td>i64</td><td>f64</td></tr></thead><tbody><tr><td>&quot;Sun&quot;</td><td>&quot;Moon&quot;</td><td>&quot;Trine&quot;</td><td>120</td><td>2.371</td></tr><tr><td>&quot;Sun&quot;</td><td>&quot;Mars&quot;</td><td>&quot;Conjunction&quot;</td><td>0</td><td>12.895</td></tr><tr><td>&quot;Sun&quot;</td><td>&quot;Jupiter&quot;</td><td>&quot;Trine&quot;</td><td>120</td><td>5.059</td></tr><tr><td>&quot;Sun&quot;</td><td>&quot;Venus&quot;</td><td>&quot;Semi Quintile&quot;</td><td>36</td><td>1.31</td></tr><tr><td>&quot;Sun&quot;</td><td>&quot;Saturn&quot;</td><td>&quot;Sextile&quot;</td><td>60</td><td>7.348</td></tr><tr><td>&quot;Sun&quot;</td><td>&quot;Uranus&quot;</td><td>&quot;Trine&quot;</td><td>120</td><td>8.727</td></tr><tr><td>&quot;Sun&quot;</td><td>&quot;Neptune&quot;</td><td>&quot;Sextile&quot;</td><td>60</td><td>14.441</td></tr><tr><td>&quot;Sun&quot;</td><td>&quot;Rahu&quot;</td><td>&quot;Square&quot;</td><td>90</td><td>10.201</td></tr><tr><td>&quot;Sun&quot;</td><td>&quot;Ketu&quot;</td><td>&quot;Square&quot;</td><td>90</td><td>10.201</td></tr><tr><td>&quot;Moon&quot;</td><td>&quot;Sun&quot;</td><td>&quot;Trine&quot;</td><td>120</td><td>2.371</td></tr><tr><td>&quot;Moon&quot;</td><td>&quot;Mercury&quot;</td><td>&quot;Square&quot;</td><td>90</td><td>9.189</td></tr><tr><td>&quot;Moon&quot;</td><td>&quot;Jupiter&quot;</td><td>&quot;Trine&quot;</td><td>120</td><td>7.43</td></tr><tr><td>&hellip;</td><td>&hellip;</td><td>&hellip;</td><td>&hellip;</td><td>&hellip;</td></tr><tr><td>&quot;Rahu&quot;</td><td>&quot;Sun&quot;</td><td>&quot;Square&quot;</td><td>90</td><td>10.201</td></tr><tr><td>&quot;Rahu&quot;</td><td>&quot;Moon&quot;</td><td>&quot;Bi Quintile&quot;</td><td>144</td><td>1.831</td></tr><tr><td>&quot;Rahu&quot;</td><td>&quot;Mars&quot;</td><td>&quot;Trine&quot;</td><td>120</td><td>6.903</td></tr><tr><td>&quot;Rahu&quot;</td><td>&quot;Mercury&quot;</td><td>&quot;Trine&quot;</td><td>120</td><td>1.358</td></tr><tr><td>&quot;Rahu&quot;</td><td>&quot;Venus&quot;</td><td>&quot;Sesqui Square&quot;</td><td>135</td><td>2.511</td></tr><tr><td>&quot;Rahu&quot;</td><td>&quot;Saturn&quot;</td><td>&quot;Semi Square&quot;</td><td>45</td><td>2.549</td></tr><tr><td>&quot;Ketu&quot;</td><td>&quot;Sun&quot;</td><td>&quot;Square&quot;</td><td>90</td><td>10.201</td></tr><tr><td>&quot;Ketu&quot;</td><td>&quot;Moon&quot;</td><td>&quot;Semi Quintile&quot;</td><td>36</td><td>1.831</td></tr><tr><td>&quot;Ketu&quot;</td><td>&quot;Mars&quot;</td><td>&quot;Sextile&quot;</td><td>60</td><td>6.903</td></tr><tr><td>&quot;Ketu&quot;</td><td>&quot;Mercury&quot;</td><td>&quot;Sextile&quot;</td><td>60</td><td>1.358</td></tr><tr><td>&quot;Ketu&quot;</td><td>&quot;Venus&quot;</td><td>&quot;Semi Square&quot;</td><td>45</td><td>2.511</td></tr><tr><td>&quot;Ketu&quot;</td><td>&quot;Saturn&quot;</td><td>&quot;Sesqui Square&quot;</td><td>135</td><td>2.549</td></tr></tbody></table></div>"
      ],
      "text/plain": [
       "shape: (88, 5)\n",
       "┌──────┬─────────┬───────────────┬───────────┬───────────┐\n",
       "│ P1   ┆ P2      ┆ AspectType    ┆ AspectDeg ┆ AspectOrb │\n",
       "│ ---  ┆ ---     ┆ ---           ┆ ---       ┆ ---       │\n",
       "│ str  ┆ str     ┆ str           ┆ i64       ┆ f64       │\n",
       "╞══════╪═════════╪═══════════════╪═══════════╪═══════════╡\n",
       "│ Sun  ┆ Moon    ┆ Trine         ┆ 120       ┆ 2.371     │\n",
       "│ Sun  ┆ Mars    ┆ Conjunction   ┆ 0         ┆ 12.895    │\n",
       "│ Sun  ┆ Jupiter ┆ Trine         ┆ 120       ┆ 5.059     │\n",
       "│ Sun  ┆ Venus   ┆ Semi Quintile ┆ 36        ┆ 1.31      │\n",
       "│ Sun  ┆ Saturn  ┆ Sextile       ┆ 60        ┆ 7.348     │\n",
       "│ …    ┆ …       ┆ …             ┆ …         ┆ …         │\n",
       "│ Ketu ┆ Moon    ┆ Semi Quintile ┆ 36        ┆ 1.831     │\n",
       "│ Ketu ┆ Mars    ┆ Sextile       ┆ 60        ┆ 6.903     │\n",
       "│ Ketu ┆ Mercury ┆ Sextile       ┆ 60        ┆ 1.358     │\n",
       "│ Ketu ┆ Venus   ┆ Semi Square   ┆ 45        ┆ 2.511     │\n",
       "│ Ketu ┆ Saturn  ┆ Sesqui Square ┆ 135       ┆ 2.549     │\n",
       "└──────┴─────────┴───────────────┴───────────┴───────────┘"
      ]
     },
     "execution_count": 17,
     "metadata": {},
     "output_type": "execute_result"
    }
   ],
   "source": [
    "planetary_aspects = vhd.get_planetary_aspects(chart)\n",
    "pl.DataFrame(planetary_aspects)"
   ]
  },
  {
   "cell_type": "markdown",
   "metadata": {},
   "source": [
    "### Consolidated Chart Data"
   ]
  },
  {
   "cell_type": "code",
   "execution_count": 18,
   "metadata": {},
   "outputs": [
    {
     "name": "stdout",
     "output_type": "stream",
     "text": [
      "[{'LonDecDeg': [12.692, 11.394, 25.18],\n",
      "  'Object': ['III', 'Jupiter', 'Uranus'],\n",
      "  'Rasi': 'Aries',\n",
      "  'SignLonDMS': ['+12:41:33', '+11:23:38', '+25:10:49'],\n",
      "  'SignLonDecDeg': [12.692, 11.394, 25.18],\n",
      "  'isRetroGrade': [False, False, True]},\n",
      " {'LonDecDeg': [38.352, 59.592],\n",
      "  'Object': ['IV', 'V'],\n",
      "  'Rasi': 'Taurus',\n",
      "  'SignLonDMS': ['+08:21:08', '+29:35:31'],\n",
      "  'SignLonDecDeg': [8.352, 29.592],\n",
      "  'isRetroGrade': [False, False]},\n",
      " {'LonDecDeg': [81.019, 70.778],\n",
      "  'Object': ['VI', 'Syzygy'],\n",
      "  'Rasi': 'Gemini',\n",
      "  'SignLonDMS': ['+21:01:08', '+10:46:41'],\n",
      "  'SignLonDecDeg': [21.019, 10.778],\n",
      "  'isRetroGrade': [False, False]}]\n",
      "CPU times: total: 0 ns\n",
      "Wall time: 14.3 ms\n"
     ]
    }
   ],
   "source": [
    "%%time\n",
    "## Pandas df.to_dict(orient = \"records\") style return\n",
    "consolidated_chart_data_style1 = vhd.get_consolidated_chart_data(planets_data=planets_data, houses_data=houses_data, return_style = \"dataframe_records\")\n",
    "pprint(consolidated_chart_data_style1[:3])"
   ]
  },
  {
   "cell_type": "code",
   "execution_count": 19,
   "metadata": {},
   "outputs": [
    {
     "data": {
      "text/html": [
       "<div><style>\n",
       ".dataframe > thead > tr,\n",
       ".dataframe > tbody > tr {\n",
       "  text-align: right;\n",
       "  white-space: pre-wrap;\n",
       "}\n",
       "</style>\n",
       "<small>shape: (12, 6)</small><table border=\"1\" class=\"dataframe\"><thead><tr><th>Rasi</th><th>Object</th><th>isRetroGrade</th><th>LonDecDeg</th><th>SignLonDMS</th><th>SignLonDecDeg</th></tr><tr><td>str</td><td>list[str]</td><td>list[bool]</td><td>list[f64]</td><td>list[str]</td><td>list[f64]</td></tr></thead><tbody><tr><td>&quot;Aries&quot;</td><td>[&quot;III&quot;, &quot;Jupiter&quot;, &quot;Uranus&quot;]</td><td>[false, false, true]</td><td>[12.692, 11.394, 25.18]</td><td>[&quot;+12:41:33&quot;, &quot;+11:23:38&quot;, &quot;+25:10:49&quot;]</td><td>[12.692, 11.394, 25.18]</td></tr><tr><td>&quot;Taurus&quot;</td><td>[&quot;IV&quot;, &quot;V&quot;]</td><td>[false, false]</td><td>[38.352, 59.592]</td><td>[&quot;+08:21:08&quot;, &quot;+29:35:31&quot;]</td><td>[8.352, 29.592]</td></tr><tr><td>&quot;Gemini&quot;</td><td>[&quot;VI&quot;, &quot;Syzygy&quot;]</td><td>[false, false]</td><td>[81.019, 70.778]</td><td>[&quot;+21:01:08&quot;, &quot;+10:46:41&quot;]</td><td>[21.019, 10.778]</td></tr><tr><td>&quot;Cancer&quot;</td><td>[&quot;VII&quot;]</td><td>[false]</td><td>[108.596]</td><td>[&quot;+18:35:46&quot;]</td><td>[18.596]</td></tr><tr><td>&quot;Leo&quot;</td><td>[&quot;Moon&quot;]</td><td>[false]</td><td>[138.824]</td><td>[&quot;+18:49:26&quot;]</td><td>[18.824]</td></tr><tr><td>&quot;Virgo&quot;</td><td>[&quot;VIII&quot;, &quot;Ketu&quot;]</td><td>[false, true]</td><td>[156.499, 176.655]</td><td>[&quot;+06:29:55&quot;, &quot;+26:39:17&quot;]</td><td>[6.499, 26.655]</td></tr><tr><td>&quot;Libra&quot;</td><td>[&quot;IX&quot;, &quot;Fortuna&quot;]</td><td>[false, false]</td><td>[192.692, 195.158]</td><td>[&quot;+12:41:33&quot;, &quot;+15:09:28&quot;]</td><td>[12.692, 15.158]</td></tr><tr><td>&quot;Scorpio&quot;</td><td>[&quot;X&quot;, &quot;XI&quot;, … &quot;Venus&quot;]</td><td>[false, false, … false]</td><td>[218.352, 239.592, … 219.144]</td><td>[&quot;+08:21:08&quot;, &quot;+29:35:31&quot;, … &quot;+09:08:37&quot;]</td><td>[8.352, 29.592, … 9.144]</td></tr><tr><td>&quot;Sagittarius&quot;</td><td>[&quot;XII&quot;, &quot;Sun&quot;, &quot;Mars&quot;]</td><td>[false, false, false]</td><td>[261.019, 256.453, 243.558]</td><td>[&quot;+21:01:08&quot;, &quot;+16:27:12&quot;, &quot;+03:33:28&quot;]</td><td>[21.019, 16.453, 3.558]</td></tr><tr><td>&quot;Capricorn&quot;</td><td>[&quot;I&quot;, &quot;Asc&quot;, &quot;Pluto&quot;]</td><td>[false, null, false]</td><td>[288.596, 288.596, 275.185]</td><td>[&quot;+18:35:46&quot;, &quot;+18:35:46&quot;, &quot;+05:11:07&quot;]</td><td>[18.596, 18.5961, 5.185]</td></tr><tr><td>&quot;Aquarius&quot;</td><td>[&quot;Saturn&quot;]</td><td>[false]</td><td>[309.105]</td><td>[&quot;+09:06:20&quot;]</td><td>[9.105]</td></tr><tr><td>&quot;Pisces&quot;</td><td>[&quot;II&quot;, &quot;Neptune&quot;, … &quot;Rahu&quot;]</td><td>[false, false, … true]</td><td>[336.499, 330.894, … 356.655]</td><td>[&quot;+06:29:55&quot;, &quot;+00:53:38&quot;, … &quot;+26:39:17&quot;]</td><td>[6.499, 0.894, … 26.655]</td></tr></tbody></table></div>"
      ],
      "text/plain": [
       "shape: (12, 6)\n",
       "┌─────────────┬────────────────┬────────────────┬────────────────┬────────────────┬────────────────┐\n",
       "│ Rasi        ┆ Object         ┆ isRetroGrade   ┆ LonDecDeg      ┆ SignLonDMS     ┆ SignLonDecDeg  │\n",
       "│ ---         ┆ ---            ┆ ---            ┆ ---            ┆ ---            ┆ ---            │\n",
       "│ str         ┆ list[str]      ┆ list[bool]     ┆ list[f64]      ┆ list[str]      ┆ list[f64]      │\n",
       "╞═════════════╪════════════════╪════════════════╪════════════════╪════════════════╪════════════════╡\n",
       "│ Aries       ┆ [\"III\",        ┆ [false, false, ┆ [12.692,       ┆ [\"+12:41:33\",  ┆ [12.692,       │\n",
       "│             ┆ \"Jupiter\",     ┆ true]          ┆ 11.394, 25.18] ┆ \"+11:23:38\",   ┆ 11.394, 25.18] │\n",
       "│             ┆ \"Uranus\"]      ┆                ┆                ┆ \"+25:…         ┆                │\n",
       "│ Taurus      ┆ [\"IV\", \"V\"]    ┆ [false, false] ┆ [38.352,       ┆ [\"+08:21:08\",  ┆ [8.352,        │\n",
       "│             ┆                ┆                ┆ 59.592]        ┆ \"+29:35:31\"]   ┆ 29.592]        │\n",
       "│ Gemini      ┆ [\"VI\",         ┆ [false, false] ┆ [81.019,       ┆ [\"+21:01:08\",  ┆ [21.019,       │\n",
       "│             ┆ \"Syzygy\"]      ┆                ┆ 70.778]        ┆ \"+10:46:41\"]   ┆ 10.778]        │\n",
       "│ Cancer      ┆ [\"VII\"]        ┆ [false]        ┆ [108.596]      ┆ [\"+18:35:46\"]  ┆ [18.596]       │\n",
       "│ Leo         ┆ [\"Moon\"]       ┆ [false]        ┆ [138.824]      ┆ [\"+18:49:26\"]  ┆ [18.824]       │\n",
       "│ …           ┆ …              ┆ …              ┆ …              ┆ …              ┆ …              │\n",
       "│ Scorpio     ┆ [\"X\", \"XI\", …  ┆ [false, false, ┆ [218.352,      ┆ [\"+08:21:08\",  ┆ [8.352,        │\n",
       "│             ┆ \"Venus\"]       ┆ … false]       ┆ 239.592, …     ┆ \"+29:35:31\", … ┆ 29.592, …      │\n",
       "│             ┆                ┆                ┆ 219.144]       ┆ \"+0…           ┆ 9.144]         │\n",
       "│ Sagittarius ┆ [\"XII\", \"Sun\", ┆ [false, false, ┆ [261.019,      ┆ [\"+21:01:08\",  ┆ [21.019,       │\n",
       "│             ┆ \"Mars\"]        ┆ false]         ┆ 256.453,       ┆ \"+16:27:12\",   ┆ 16.453, 3.558] │\n",
       "│             ┆                ┆                ┆ 243.558]       ┆ \"+03:…         ┆                │\n",
       "│ Capricorn   ┆ [\"I\", \"Asc\",   ┆ [false, null,  ┆ [288.596,      ┆ [\"+18:35:46\",  ┆ [18.596,       │\n",
       "│             ┆ \"Pluto\"]       ┆ false]         ┆ 288.596,       ┆ \"+18:35:46\",   ┆ 18.5961,       │\n",
       "│             ┆                ┆                ┆ 275.185]       ┆ \"+05:…         ┆ 5.185]         │\n",
       "│ Aquarius    ┆ [\"Saturn\"]     ┆ [false]        ┆ [309.105]      ┆ [\"+09:06:20\"]  ┆ [9.105]        │\n",
       "│ Pisces      ┆ [\"II\",         ┆ [false, false, ┆ [336.499,      ┆ [\"+06:29:55\",  ┆ [6.499, 0.894, │\n",
       "│             ┆ \"Neptune\", …   ┆ … true]        ┆ 330.894, …     ┆ \"+00:53:38\", … ┆ … 26.655]      │\n",
       "│             ┆ \"Rahu\"]        ┆                ┆ 356.655]       ┆ \"+2…           ┆                │\n",
       "└─────────────┴────────────────┴────────────────┴────────────────┴────────────────┴────────────────┘"
      ]
     },
     "execution_count": 19,
     "metadata": {},
     "output_type": "execute_result"
    }
   ],
   "source": [
    "result_df = pl.DataFrame(consolidated_chart_data_style1)\n",
    "result_df"
   ]
  },
  {
   "cell_type": "code",
   "execution_count": 20,
   "metadata": {},
   "outputs": [
    {
     "data": {
      "text/plain": [
       "[{'Rasi': 'Aries',\n",
       "  'Object': ['III', 'Jupiter', 'Uranus'],\n",
       "  'isRetroGrade': [False, False, True],\n",
       "  'LonDecDeg': [12.692, 11.394, 25.18],\n",
       "  'SignLonDMS': ['+12:41:33', '+11:23:38', '+25:10:49'],\n",
       "  'SignLonDecDeg': [12.692, 11.394, 25.18]},\n",
       " {'Rasi': 'Taurus',\n",
       "  'Object': ['IV', 'V'],\n",
       "  'isRetroGrade': [False, False],\n",
       "  'LonDecDeg': [38.352, 59.592],\n",
       "  'SignLonDMS': ['+08:21:08', '+29:35:31'],\n",
       "  'SignLonDecDeg': [8.352, 29.592]},\n",
       " {'Rasi': 'Gemini',\n",
       "  'Object': ['VI', 'Syzygy'],\n",
       "  'isRetroGrade': [False, False],\n",
       "  'LonDecDeg': [81.019, 70.778],\n",
       "  'SignLonDMS': ['+21:01:08', '+10:46:41'],\n",
       "  'SignLonDecDeg': [21.019, 10.778]},\n",
       " {'Rasi': 'Cancer',\n",
       "  'Object': ['VII'],\n",
       "  'isRetroGrade': [False],\n",
       "  'LonDecDeg': [108.596],\n",
       "  'SignLonDMS': ['+18:35:46'],\n",
       "  'SignLonDecDeg': [18.596]},\n",
       " {'Rasi': 'Leo',\n",
       "  'Object': ['Moon'],\n",
       "  'isRetroGrade': [False],\n",
       "  'LonDecDeg': [138.824],\n",
       "  'SignLonDMS': ['+18:49:26'],\n",
       "  'SignLonDecDeg': [18.824]},\n",
       " {'Rasi': 'Virgo',\n",
       "  'Object': ['VIII', 'Ketu'],\n",
       "  'isRetroGrade': [False, True],\n",
       "  'LonDecDeg': [156.499, 176.655],\n",
       "  'SignLonDMS': ['+06:29:55', '+26:39:17'],\n",
       "  'SignLonDecDeg': [6.499, 26.655]},\n",
       " {'Rasi': 'Libra',\n",
       "  'Object': ['IX', 'Fortuna'],\n",
       "  'isRetroGrade': [False, False],\n",
       "  'LonDecDeg': [192.692, 195.158],\n",
       "  'SignLonDMS': ['+12:41:33', '+15:09:28'],\n",
       "  'SignLonDecDeg': [12.692, 15.158]},\n",
       " {'Rasi': 'Scorpio',\n",
       "  'Object': ['X', 'XI', 'Mercury', 'Venus'],\n",
       "  'isRetroGrade': [False, False, True, False],\n",
       "  'LonDecDeg': [218.352, 239.592, 238.013, 219.144],\n",
       "  'SignLonDMS': ['+08:21:08', '+29:35:31', '+28:00:45', '+09:08:37'],\n",
       "  'SignLonDecDeg': [8.352, 29.592, 28.013, 9.144]},\n",
       " {'Rasi': 'Sagittarius',\n",
       "  'Object': ['XII', 'Sun', 'Mars'],\n",
       "  'isRetroGrade': [False, False, False],\n",
       "  'LonDecDeg': [261.019, 256.453, 243.558],\n",
       "  'SignLonDMS': ['+21:01:08', '+16:27:12', '+03:33:28'],\n",
       "  'SignLonDecDeg': [21.019, 16.453, 3.558]},\n",
       " {'Rasi': 'Capricorn',\n",
       "  'Object': ['I', 'Asc', 'Pluto'],\n",
       "  'isRetroGrade': [False, None, False],\n",
       "  'LonDecDeg': [288.596, 288.596, 275.185],\n",
       "  'SignLonDMS': ['+18:35:46', '+18:35:46', '+05:11:07'],\n",
       "  'SignLonDecDeg': [18.596, 18.5961, 5.185]},\n",
       " {'Rasi': 'Aquarius',\n",
       "  'Object': ['Saturn'],\n",
       "  'isRetroGrade': [False],\n",
       "  'LonDecDeg': [309.105],\n",
       "  'SignLonDMS': ['+09:06:20'],\n",
       "  'SignLonDecDeg': [9.105]},\n",
       " {'Rasi': 'Pisces',\n",
       "  'Object': ['II', 'Neptune', 'Chiron', 'Rahu'],\n",
       "  'isRetroGrade': [False, False, False, True],\n",
       "  'LonDecDeg': [336.499, 330.894, 351.275, 356.655],\n",
       "  'SignLonDMS': ['+06:29:55', '+00:53:38', '+21:16:29', '+26:39:17'],\n",
       "  'SignLonDecDeg': [6.499, 0.894, 21.275, 26.655]}]"
      ]
     },
     "execution_count": 20,
     "metadata": {},
     "output_type": "execute_result"
    }
   ],
   "source": [
    "result_df.to_dicts()"
   ]
  },
  {
   "cell_type": "markdown",
   "metadata": {},
   "source": [
    "### Consolidated Chart Data - RasiWise Style"
   ]
  },
  {
   "cell_type": "code",
   "execution_count": 21,
   "metadata": {},
   "outputs": [
    {
     "name": "stdout",
     "output_type": "stream",
     "text": [
      "Length of consolidated chart data: 12\n",
      "CPU times: total: 0 ns\n",
      "Wall time: 14 ms\n"
     ]
    }
   ],
   "source": [
    "%%time\n",
    "## JSON Style return grouped by Rasi order\n",
    "consolidated_chart_data_style2 = vhd.get_consolidated_chart_data(planets_data=planets_data, houses_data=houses_data)\n",
    "print(f\"Length of consolidated chart data: {len(consolidated_chart_data_style2)}\")"
   ]
  },
  {
   "cell_type": "code",
   "execution_count": 22,
   "metadata": {},
   "outputs": [
    {
     "name": "stdout",
     "output_type": "stream",
     "text": [
      "{'Aquarius': {'Saturn': {'LonDecDeg': 309.105,\n",
      "                         'SignLonDMS': '+09:06:20',\n",
      "                         'SignLonDecDeg': 9.105,\n",
      "                         'is_Retrograde': False}},\n",
      " 'Aries': {'III': {'LonDecDeg': 12.692,\n",
      "                   'SignLonDMS': '+12:41:33',\n",
      "                   'SignLonDecDeg': 12.692,\n",
      "                   'is_Retrograde': False},\n",
      "           'Jupiter': {'LonDecDeg': 11.394,\n",
      "                       'SignLonDMS': '+11:23:38',\n",
      "                       'SignLonDecDeg': 11.394,\n",
      "                       'is_Retrograde': False},\n",
      "           'Uranus': {'LonDecDeg': 25.18,\n",
      "                      'SignLonDMS': '+25:10:49',\n",
      "                      'SignLonDecDeg': 25.18,\n",
      "                      'is_Retrograde': True}},\n",
      " 'Cancer': {'VII': {'LonDecDeg': 108.596,\n",
      "                    'SignLonDMS': '+18:35:46',\n",
      "                    'SignLonDecDeg': 18.596,\n",
      "                    'is_Retrograde': False}},\n",
      " 'Capricorn': {'Asc': {'LonDecDeg': 288.596,\n",
      "                       'SignLonDMS': '+18:35:46',\n",
      "                       'SignLonDecDeg': 18.5961,\n",
      "                       'is_Retrograde': None},\n",
      "               'I': {'LonDecDeg': 288.596,\n",
      "                     'SignLonDMS': '+18:35:46',\n",
      "                     'SignLonDecDeg': 18.596,\n",
      "                     'is_Retrograde': False},\n",
      "               'Pluto': {'LonDecDeg': 275.185,\n",
      "                         'SignLonDMS': '+05:11:07',\n",
      "                         'SignLonDecDeg': 5.185,\n",
      "                         'is_Retrograde': False}},\n",
      " 'Gemini': {'Syzygy': {'LonDecDeg': 70.778,\n",
      "                       'SignLonDMS': '+10:46:41',\n",
      "                       'SignLonDecDeg': 10.778,\n",
      "                       'is_Retrograde': False},\n",
      "            'VI': {'LonDecDeg': 81.019,\n",
      "                   'SignLonDMS': '+21:01:08',\n",
      "                   'SignLonDecDeg': 21.019,\n",
      "                   'is_Retrograde': False}},\n",
      " 'Leo': {'Moon': {'LonDecDeg': 138.824,\n",
      "                  'SignLonDMS': '+18:49:26',\n",
      "                  'SignLonDecDeg': 18.824,\n",
      "                  'is_Retrograde': False}},\n",
      " 'Libra': {'Fortuna': {'LonDecDeg': 195.158,\n",
      "                       'SignLonDMS': '+15:09:28',\n",
      "                       'SignLonDecDeg': 15.158,\n",
      "                       'is_Retrograde': False},\n",
      "           'IX': {'LonDecDeg': 192.692,\n",
      "                  'SignLonDMS': '+12:41:33',\n",
      "                  'SignLonDecDeg': 12.692,\n",
      "                  'is_Retrograde': False}},\n",
      " 'Pisces': {'Chiron': {'LonDecDeg': 351.275,\n",
      "                       'SignLonDMS': '+21:16:29',\n",
      "                       'SignLonDecDeg': 21.275,\n",
      "                       'is_Retrograde': False},\n",
      "            'II': {'LonDecDeg': 336.499,\n",
      "                   'SignLonDMS': '+06:29:55',\n",
      "                   'SignLonDecDeg': 6.499,\n",
      "                   'is_Retrograde': False},\n",
      "            'Neptune': {'LonDecDeg': 330.894,\n",
      "                        'SignLonDMS': '+00:53:38',\n",
      "                        'SignLonDecDeg': 0.894,\n",
      "                        'is_Retrograde': False},\n",
      "            'Rahu': {'LonDecDeg': 356.655,\n",
      "                     'SignLonDMS': '+26:39:17',\n",
      "                     'SignLonDecDeg': 26.655,\n",
      "                     'is_Retrograde': True}},\n",
      " 'Sagittarius': {'Mars': {'LonDecDeg': 243.558,\n",
      "                          'SignLonDMS': '+03:33:28',\n",
      "                          'SignLonDecDeg': 3.558,\n",
      "                          'is_Retrograde': False},\n",
      "                 'Sun': {'LonDecDeg': 256.453,\n",
      "                         'SignLonDMS': '+16:27:12',\n",
      "                         'SignLonDecDeg': 16.453,\n",
      "                         'is_Retrograde': False},\n",
      "                 'XII': {'LonDecDeg': 261.019,\n",
      "                         'SignLonDMS': '+21:01:08',\n",
      "                         'SignLonDecDeg': 21.019,\n",
      "                         'is_Retrograde': False}},\n",
      " 'Scorpio': {'Mercury': {'LonDecDeg': 238.013,\n",
      "                         'SignLonDMS': '+28:00:45',\n",
      "                         'SignLonDecDeg': 28.013,\n",
      "                         'is_Retrograde': True},\n",
      "             'Venus': {'LonDecDeg': 219.144,\n",
      "                       'SignLonDMS': '+09:08:37',\n",
      "                       'SignLonDecDeg': 9.144,\n",
      "                       'is_Retrograde': False},\n",
      "             'X': {'LonDecDeg': 218.352,\n",
      "                   'SignLonDMS': '+08:21:08',\n",
      "                   'SignLonDecDeg': 8.352,\n",
      "                   'is_Retrograde': False},\n",
      "             'XI': {'LonDecDeg': 239.592,\n",
      "                    'SignLonDMS': '+29:35:31',\n",
      "                    'SignLonDecDeg': 29.592,\n",
      "                    'is_Retrograde': False}},\n",
      " 'Taurus': {'IV': {'LonDecDeg': 38.352,\n",
      "                   'SignLonDMS': '+08:21:08',\n",
      "                   'SignLonDecDeg': 8.352,\n",
      "                   'is_Retrograde': False},\n",
      "            'V': {'LonDecDeg': 59.592,\n",
      "                  'SignLonDMS': '+29:35:31',\n",
      "                  'SignLonDecDeg': 29.592,\n",
      "                  'is_Retrograde': False}},\n",
      " 'Virgo': {'Ketu': {'LonDecDeg': 176.655,\n",
      "                    'SignLonDMS': '+26:39:17',\n",
      "                    'SignLonDecDeg': 26.655,\n",
      "                    'is_Retrograde': True},\n",
      "           'VIII': {'LonDecDeg': 156.499,\n",
      "                    'SignLonDMS': '+06:29:55',\n",
      "                    'SignLonDecDeg': 6.499,\n",
      "                    'is_Retrograde': False}}}\n"
     ]
    }
   ],
   "source": [
    "pprint(consolidated_chart_data_style2)"
   ]
  },
  {
   "cell_type": "code",
   "execution_count": 23,
   "metadata": {},
   "outputs": [
    {
     "name": "stdout",
     "output_type": "stream",
     "text": [
      "Nr. of items in sign: Sagittarius 3\n"
     ]
    },
    {
     "data": {
      "text/plain": [
       "{'XII': {'is_Retrograde': False,\n",
       "  'LonDecDeg': 261.019,\n",
       "  'SignLonDMS': '+21:01:08',\n",
       "  'SignLonDecDeg': 21.019},\n",
       " 'Sun': {'is_Retrograde': False,\n",
       "  'LonDecDeg': 256.453,\n",
       "  'SignLonDMS': '+16:27:12',\n",
       "  'SignLonDecDeg': 16.453},\n",
       " 'Mars': {'is_Retrograde': False,\n",
       "  'LonDecDeg': 243.558,\n",
       "  'SignLonDMS': '+03:33:28',\n",
       "  'SignLonDecDeg': 3.558}}"
      ]
     },
     "execution_count": 23,
     "metadata": {},
     "output_type": "execute_result"
    }
   ],
   "source": [
    "sign = \"Sagittarius\"\n",
    "print(f\"Nr. of items in sign: {sign}\",len(consolidated_chart_data_style2[sign]))\n",
    "consolidated_chart_data_style2[sign]"
   ]
  },
  {
   "cell_type": "code",
   "execution_count": 24,
   "metadata": {},
   "outputs": [
    {
     "data": {
      "text/plain": [
       "{'is_Retrograde': False,\n",
       " 'LonDecDeg': 256.453,\n",
       " 'SignLonDMS': '+16:27:12',\n",
       " 'SignLonDecDeg': 16.453}"
      ]
     },
     "execution_count": 24,
     "metadata": {},
     "output_type": "execute_result"
    }
   ],
   "source": [
    "consolidated_chart_data_style2[sign][\"Sun\"]"
   ]
  }
 ],
 "metadata": {
  "kernelspec": {
   "display_name": "astro",
   "language": "python",
   "name": "python3"
  },
  "language_info": {
   "codemirror_mode": {
    "name": "ipython",
    "version": 3
   },
   "file_extension": ".py",
   "mimetype": "text/x-python",
   "name": "python",
   "nbconvert_exporter": "python",
   "pygments_lexer": "ipython3",
   "version": "3.11.8"
  }
 },
 "nbformat": 4,
 "nbformat_minor": 2
}
